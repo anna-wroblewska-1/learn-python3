{
 "cells": [
  {
   "cell_type": "markdown",
   "metadata": {},
   "source": [
    "# 1. Playing with datetimes\n",
    "You're given a naive datetime, see `NAIVE_DT` variable below. Although this variable is naive, you happen to know that the time specified by `NAIVE_DT` is in UTC.\n",
    "\n",
    "Based on this information, your task is to create new datetime variables by converting `NAIVE_DT` to UTC and then to time in Sydney and Los Angeles. Use the following variable names: `utc_dt`, `sydney_dt`, and `la_dt`. "
   ]
  },
  {
   "cell_type": "code",
   "execution_count": null,
   "metadata": {
    "editable": false
   },
   "outputs": [],
   "source": [
    "import datetime as dt\n",
    "from zoneinfo import ZoneInfo, available_timezones\n",
    "\n",
    "NAIVE_DT = dt.datetime(2000, 1, 1, 10)"
   ]
  },
  {
   "cell_type": "markdown",
   "metadata": {},
   "source": [
    "If you don't know the timezone name you're looking for, this may be helpful:"
   ]
  },
  {
   "cell_type": "code",
   "execution_count": null,
   "metadata": {
    "editable": false
   },
   "outputs": [],
   "source": [
    "for tz in available_timezones():\n",
    "    print(tz)"
   ]
  },
  {
   "cell_type": "markdown",
   "metadata": {},
   "source": [
    "Now create `utc_dt`, `sydney_dt`, and `la_dt`."
   ]
  },
  {
   "cell_type": "code",
   "execution_count": 37,
   "metadata": {},
   "outputs": [
    {
     "name": "stdout",
     "output_type": "stream",
     "text": [
      "utc now: 2000-01-01 10:00:00+00:00, tzinfo: UTC\n",
      "Sydney: 2000-01-01 21:00:00+11:00, tzinfo: Australia/Sydney\n",
      "LA: 2000-01-01 02:00:00-08:00 , tzinfo: America/Los_Angeles\n"
     ]
    }
   ],
   "source": [
    "# Your implementation here\n",
    "\n",
    "UTC_TZ= ZoneInfo(\"UTC\")\n",
    "utc_dt = NAIVE_DT.replace(tzinfo=UTC_TZ)\n",
    "print(f\"utc now: {utc_dt}, tzinfo: {utc_dt.tzinfo}\")\n",
    "\n",
    "#sydney_dt =\n",
    "sydney = ZoneInfo(\"Australia/Sydney\")\n",
    "sydney_dt = utc_dt.astimezone(sydney)\n",
    "print(f\"Sydney: {sydney_dt}, tzinfo: {sydney_dt.tzinfo}\")\n",
    " \n",
    "#la_dt = \n",
    "la = ZoneInfo(\"America/Los_Angeles\")\n",
    "la_dt = utc_dt.astimezone(la)\n",
    "print(f\"LA: {la_dt} , tzinfo: {la_dt.tzinfo}\")"
   ]
  },
  {
   "cell_type": "markdown",
   "metadata": {},
   "source": [
    "Let's verify that the solution is correct."
   ]
  },
  {
   "cell_type": "code",
   "execution_count": 38,
   "metadata": {
    "editable": false
   },
   "outputs": [
    {
     "name": "stdout",
     "output_type": "stream",
     "text": [
      "All good!\n"
     ]
    }
   ],
   "source": [
    "assert utc_dt.isoformat() == \"2000-01-01T10:00:00+00:00\"\n",
    "assert sydney_dt.isoformat() == \"2000-01-01T21:00:00+11:00\"\n",
    "assert la_dt.isoformat() == \"2000-01-01T02:00:00-08:00\"\n",
    "\n",
    "print(\"All good!\")"
   ]
  }
 ],
 "metadata": {
  "kernelspec": {
   "display_name": "Python 3 (ipykernel)",
   "language": "python",
   "name": "python3"
  },
  "language_info": {
   "codemirror_mode": {
    "name": "ipython",
    "version": 3
   },
   "file_extension": ".py",
   "mimetype": "text/x-python",
   "name": "python",
   "nbconvert_exporter": "python",
   "pygments_lexer": "ipython3",
   "version": "3.10.9"
  }
 },
 "nbformat": 4,
 "nbformat_minor": 2
}
