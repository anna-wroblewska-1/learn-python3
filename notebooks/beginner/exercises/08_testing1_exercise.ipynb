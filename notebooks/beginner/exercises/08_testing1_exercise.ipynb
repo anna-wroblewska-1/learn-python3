{
 "cells": [
  {
   "cell_type": "code",
   "execution_count": 1,
   "metadata": {},
   "outputs": [
    {
     "name": "stdout",
     "output_type": "stream",
     "text": [
      "Requirement already satisfied: pytest in /Users/mac/anaconda3/lib/python3.10/site-packages (7.1.2)\n",
      "Requirement already satisfied: attrs>=19.2.0 in /Users/mac/anaconda3/lib/python3.10/site-packages (from pytest) (22.1.0)\n",
      "Requirement already satisfied: iniconfig in /Users/mac/anaconda3/lib/python3.10/site-packages (from pytest) (1.1.1)\n",
      "Requirement already satisfied: packaging in /Users/mac/anaconda3/lib/python3.10/site-packages (from pytest) (22.0)\n",
      "Requirement already satisfied: pluggy<2.0,>=0.12 in /Users/mac/anaconda3/lib/python3.10/site-packages (from pytest) (1.0.0)\n",
      "Requirement already satisfied: py>=1.8.2 in /Users/mac/anaconda3/lib/python3.10/site-packages (from pytest) (1.11.0)\n",
      "Requirement already satisfied: tomli>=1.0.0 in /Users/mac/anaconda3/lib/python3.10/site-packages (from pytest) (2.0.1)\n",
      "Requirement already satisfied: ipytest in /Users/mac/anaconda3/lib/python3.10/site-packages (0.14.2)\n",
      "Requirement already satisfied: packaging in /Users/mac/anaconda3/lib/python3.10/site-packages (from ipytest) (22.0)\n",
      "Requirement already satisfied: ipython in /Users/mac/anaconda3/lib/python3.10/site-packages (from ipytest) (8.10.0)\n",
      "Requirement already satisfied: pytest>=5.4 in /Users/mac/anaconda3/lib/python3.10/site-packages (from ipytest) (7.1.2)\n",
      "Requirement already satisfied: attrs>=19.2.0 in /Users/mac/anaconda3/lib/python3.10/site-packages (from pytest>=5.4->ipytest) (22.1.0)\n",
      "Requirement already satisfied: iniconfig in /Users/mac/anaconda3/lib/python3.10/site-packages (from pytest>=5.4->ipytest) (1.1.1)\n",
      "Requirement already satisfied: pluggy<2.0,>=0.12 in /Users/mac/anaconda3/lib/python3.10/site-packages (from pytest>=5.4->ipytest) (1.0.0)\n",
      "Requirement already satisfied: py>=1.8.2 in /Users/mac/anaconda3/lib/python3.10/site-packages (from pytest>=5.4->ipytest) (1.11.0)\n",
      "Requirement already satisfied: tomli>=1.0.0 in /Users/mac/anaconda3/lib/python3.10/site-packages (from pytest>=5.4->ipytest) (2.0.1)\n",
      "Requirement already satisfied: backcall in /Users/mac/anaconda3/lib/python3.10/site-packages (from ipython->ipytest) (0.2.0)\n",
      "Requirement already satisfied: pygments>=2.4.0 in /Users/mac/anaconda3/lib/python3.10/site-packages (from ipython->ipytest) (2.11.2)\n",
      "Requirement already satisfied: traitlets>=5 in /Users/mac/anaconda3/lib/python3.10/site-packages (from ipython->ipytest) (5.7.1)\n",
      "Requirement already satisfied: prompt-toolkit<3.1.0,>=3.0.30 in /Users/mac/anaconda3/lib/python3.10/site-packages (from ipython->ipytest) (3.0.36)\n",
      "Requirement already satisfied: pickleshare in /Users/mac/anaconda3/lib/python3.10/site-packages (from ipython->ipytest) (0.7.5)\n",
      "Requirement already satisfied: appnope in /Users/mac/anaconda3/lib/python3.10/site-packages (from ipython->ipytest) (0.1.2)\n",
      "Requirement already satisfied: pexpect>4.3 in /Users/mac/anaconda3/lib/python3.10/site-packages (from ipython->ipytest) (4.8.0)\n",
      "Requirement already satisfied: decorator in /Users/mac/anaconda3/lib/python3.10/site-packages (from ipython->ipytest) (5.1.1)\n",
      "Requirement already satisfied: matplotlib-inline in /Users/mac/anaconda3/lib/python3.10/site-packages (from ipython->ipytest) (0.1.6)\n",
      "Requirement already satisfied: jedi>=0.16 in /Users/mac/anaconda3/lib/python3.10/site-packages (from ipython->ipytest) (0.18.1)\n",
      "Requirement already satisfied: stack-data in /Users/mac/anaconda3/lib/python3.10/site-packages (from ipython->ipytest) (0.2.0)\n",
      "Requirement already satisfied: parso<0.9.0,>=0.8.0 in /Users/mac/anaconda3/lib/python3.10/site-packages (from jedi>=0.16->ipython->ipytest) (0.8.3)\n",
      "Requirement already satisfied: ptyprocess>=0.5 in /Users/mac/anaconda3/lib/python3.10/site-packages (from pexpect>4.3->ipython->ipytest) (0.7.0)\n",
      "Requirement already satisfied: wcwidth in /Users/mac/anaconda3/lib/python3.10/site-packages (from prompt-toolkit<3.1.0,>=3.0.30->ipython->ipytest) (0.2.5)\n",
      "Requirement already satisfied: asttokens in /Users/mac/anaconda3/lib/python3.10/site-packages (from stack-data->ipython->ipytest) (2.0.5)\n",
      "Requirement already satisfied: executing in /Users/mac/anaconda3/lib/python3.10/site-packages (from stack-data->ipython->ipytest) (0.8.3)\n",
      "Requirement already satisfied: pure-eval in /Users/mac/anaconda3/lib/python3.10/site-packages (from stack-data->ipython->ipytest) (0.2.2)\n",
      "Requirement already satisfied: six in /Users/mac/anaconda3/lib/python3.10/site-packages (from asttokens->stack-data->ipython->ipytest) (1.16.0)\n"
     ]
    }
   ],
   "source": [
    "# Let's make sure pytest and ipytest packages are installed\n",
    "# ipytest is required for running pytest inside Jupyter notebooks\n",
    "import sys\n",
    "\n",
    "!{sys.executable} -m pip install pytest\n",
    "!{sys.executable} -m pip install ipytest\n",
    "\n",
    "# These are needed for running pytest inside Jupyter notebooks\n",
    "import ipytest\n",
    "\n",
    "ipytest.autoconfig()"
   ]
  },
  {
   "cell_type": "markdown",
   "metadata": {},
   "source": [
    "# 1. Creating your first test case\n",
    "There is an implementation for `get_divisible_by_five` function in the cell below. Your task is to create a test case for this function to verify that it works correctly.\n"
   ]
  },
  {
   "cell_type": "code",
   "execution_count": 2,
   "metadata": {
    "editable": false
   },
   "outputs": [],
   "source": [
    "def get_divisible_by_five(numbers):\n",
    "    \"\"\"Returns a list of numbers which are divisible by five in the list got as an argument\"\"\"\n",
    "    result = []\n",
    "    for num in numbers:\n",
    "        if not num % 5:\n",
    "            result.append(num)\n",
    "\n",
    "    return result"
   ]
  },
  {
   "cell_type": "code",
   "execution_count": 5,
   "metadata": {},
   "outputs": [
    {
     "name": "stdout",
     "output_type": "stream",
     "text": [
      "\u001b[32m.\u001b[0m\u001b[32m                                                                                            [100%]\u001b[0m\n",
      "\u001b[32m\u001b[32m\u001b[1m1 passed\u001b[0m\u001b[32m in 0.01s\u001b[0m\u001b[0m\n"
     ]
    }
   ],
   "source": [
    "%%ipytest\n",
    "\n",
    "def test_get_divisible_by_five():\n",
    "    # Your implementation here\n",
    "    numbers = 5, 10, 12\n",
    "\n",
    "assert result == [5, 10]\n"
   ]
  }
 ],
 "metadata": {
  "kernelspec": {
   "display_name": "Python 3 (ipykernel)",
   "language": "python",
   "name": "python3"
  },
  "language_info": {
   "codemirror_mode": {
    "name": "ipython",
    "version": 3
   },
   "file_extension": ".py",
   "mimetype": "text/x-python",
   "name": "python",
   "nbconvert_exporter": "python",
   "pygments_lexer": "ipython3",
   "version": "3.10.9"
  }
 },
 "nbformat": 4,
 "nbformat_minor": 2
}
